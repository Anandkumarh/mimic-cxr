{
 "cells": [
  {
   "cell_type": "code",
   "execution_count": null,
   "metadata": {},
   "outputs": [],
   "source": [
    "import datetime\n",
    "import os\n",
    "from collections import OrderedDict\n",
    "from pathlib import Path\n",
    "import json\n",
    "import gzip\n",
    "\n",
    "\n",
    "import pydicom\n",
    "from pydicom.tag import Tag\n",
    "from pydicom._dicom_dict import DicomDictionary\n",
    "import pandas as pd\n",
    "import numpy as np"
   ]
  },
  {
   "cell_type": "markdown",
   "metadata": {},
   "source": [
    "# Summarize dataset"
   ]
  },
  {
   "cell_type": "code",
   "execution_count": null,
   "metadata": {},
   "outputs": [],
   "source": [
    "# load in mapping file\n",
    "df = pd.read_csv('cxr-record-list.csv.gz', header=0, sep=',')\n",
    "\n",
    "n = df.shape[0]\n",
    "print(f'{n} DICOMs in MIMIC-CXR v2.0.0.')\n",
    "\n",
    "n = df['study_id'].nunique()\n",
    "print(f'  {n} studies.')\n",
    "\n",
    "n = df['subject_id'].nunique()\n",
    "print(f'  {n} subjects.')\n",
    "\n",
    "dicoms = set(df['dicom_id'].tolist())"
   ]
  },
  {
   "cell_type": "markdown",
   "metadata": {},
   "source": [
    "# Examination type\n",
    "\n",
    "This requires loading in the DICOM meta-data. Here we load in an already generated CSV file and JSON which have all the meta-data attributes."
   ]
  },
  {
   "cell_type": "code",
   "execution_count": null,
   "metadata": {},
   "outputs": [],
   "source": [
    "data_path = Path('/db/eddata/dicom-metadata')\n",
    "# must contain:\n",
    "#   dicom-metadata.csv.gz\n",
    "#   dicom-metadata.json.gz\n",
    "\n",
    "#md = pd.read_csv(data_path / 'dicom-metadata.csv.gz',\n",
    "#                 header=0,\n",
    "#                 sep=',', compression='gzip', index_col=0)\n",
    "#md.columns = [int(c) for c in md.columns]\n",
    "\n",
    "# load json\n",
    "with gzip.open(data_path / 'dicom-metadata.json.gz', 'r') as fp:\n",
    "    tmp = json.load(fp)\n",
    "\n",
    "dcm_metadata = dict()\n",
    "# convert from length list of 1 item dicts to single dict\n",
    "for d in tmp:\n",
    "    for k, v in d.items():\n",
    "        dcm_metadata[k] = v\n",
    "del tmp\n",
    "\n",
    "# figure out how many unique top level meta-data fields in the json\n",
    "# also get a list of all the top level tags\n",
    "json_keys = [list(dcm_metadata[x].keys()) for x in dcm_metadata]\n",
    "json_keys = set([int(item) for sublist in json_keys for item in sublist])\n",
    "json_keys = list(json_keys)\n",
    "json_keys.sort()\n",
    "\n",
    "n_attrib = len(json_keys)\n",
    "print(f'There are {n_attrib} top-level attributes in the DICOM json.')\n",
    "\n",
    "# filter metadata to dicoms in our list\n",
    "dcm_metadata = {x: dcm_metadata[x] for x in dcm_metadata.keys() if x in dicoms}\n",
    "\n",
    "# grab the examination type\n",
    "dcm_exam = {x: dcm_metadata[x]['528434'][0] for x in dcm_metadata if '528434' in dcm_metadata[x]}\n",
    "dcm_exam = pd.DataFrame.from_dict(dcm_exam, orient='index')\n",
    "# filter to mimic-cxr images\n",
    "dcm_exam = df[['dicom_id']].merge(dcm_exam, how='left', left_on='dicom_id', right_index=True)\n",
    "dcm_exam.head()\n",
    "\n",
    "# using the observed meta-data, create a mapping of the examination codes to their description\n",
    "exam_mapping = dcm_exam[['524544', '524548']].drop_duplicates().values\n",
    "exam_mapping = {x[0]: x[1] for x in exam_mapping if x[0] is not np.nan}"
   ]
  },
  {
   "cell_type": "code",
   "execution_count": null,
   "metadata": {},
   "outputs": [],
   "source": [
    "n = dcm_exam.shape[0]\n",
    "print(f'{n} DICOMs.')\n",
    "\n",
    "n = dcm_exam['524544'].notnull().sum()\n",
    "f = n / dcm_exam.shape[0] * 100.0\n",
    "print(f'  {n} ({f:3.1f}%) have an exam name.\\n')\n",
    "\n",
    "# create table in the paper\n",
    "grp = dcm_exam.groupby(['524544', '524548'])[['dicom_id']].count()\n",
    "grp['(%)'] = np.round(grp['dicom_id'] / dcm_exam.shape[0] * 100.0, 2)\n",
    "grp.reset_index(inplace=True)\n",
    "grp.sort_values('dicom_id', ascending=False, inplace=True)\n",
    "\n",
    "# rename columns to be interpretable\n",
    "grp.rename(columns={\n",
    "    '524544': 'Code',\n",
    "    '524548': 'Examination name',\n",
    "    'dicom_id': 'Number of DICOMs'\n",
    "}, inplace=True)\n",
    "\n",
    "grp.to_latex('table_exam_names.tex', index=False)\n",
    "\n",
    "print('Exam names:')\n",
    "display(grp)"
   ]
  }
 ],
 "metadata": {
  "kernelspec": {
   "display_name": "ed37",
   "language": "python",
   "name": "ed37"
  },
  "language_info": {
   "codemirror_mode": {
    "name": "ipython",
    "version": 3
   },
   "file_extension": ".py",
   "mimetype": "text/x-python",
   "name": "python",
   "nbconvert_exporter": "python",
   "pygments_lexer": "ipython3",
   "version": "3.7.3"
  }
 },
 "nbformat": 4,
 "nbformat_minor": 2
}
